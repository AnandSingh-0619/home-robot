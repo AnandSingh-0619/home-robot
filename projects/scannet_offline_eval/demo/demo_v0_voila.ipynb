{
 "cells": [
  {
   "cell_type": "code",
   "execution_count": null,
   "metadata": {
    "id": "L0s0R5Kj951N",
    "tags": []
   },
   "outputs": [],
   "source": [
    "%%capture\n",
    "%load_ext autoreload\n",
    "%autoreload 2\n",
    "import os\n",
    "\n",
    "from IPython.display import HTML, display, IFrame\n",
    "from ipywidgets import widgets\n",
    "from demo_v0_voila import make_chat_box_widget, make_pointcloud, make_video_widget\n",
    "\n",
    "# Pointcloud\n",
    "import plotly.graph_objects as go\n",
    "from home_robot.mapping.voxel.voxel import SparseVoxelMap\n",
    "\n"
   ]
  },
  {
   "cell_type": "code",
   "execution_count": null,
   "metadata": {},
   "outputs": [],
   "source": [
    "%%capture\n",
    "import torch\n",
    "from home_robot.mapping.voxel.voxel import SparseVoxelMap\n",
    "svm = torch.load('/private/home/ssax/home-robot/projects/scannet_offline_eval/canned_scannet_scene.pth')\n",
    "pointcloud = svm.voxel_map.show(backend='pytorch3d')\n"
   ]
  },
  {
   "cell_type": "code",
   "execution_count": null,
   "metadata": {},
   "outputs": [],
   "source": [
    "display(HTML('./html/index.html'))\n",
    "# Chat box\n",
    "chat_box = make_chat_box_widget()\n",
    "chat_box.layout.width = '30%'\n",
    "\n",
    "pointcloud.layout.autosize = True\n",
    "# pointcloud = make_pointcloud()\n",
    "gf = go.FigureWidget(pointcloud)\n",
    "# gf.layout.width=800\n",
    "# gf.layout.height=500\n",
    "gf.layout.width=1200\n",
    "gf.layout.height=1200\n",
    "# gf.layout.autosize = True\n",
    "\n",
    "gf_wrapper = widgets.HBox(\n",
    "    [gf],\n",
    "    layout=widgets.Layout(\n",
    "        width=\"100%\",\n",
    "        min_height=\"60%\",\n",
    "        display=\"flex\",\n",
    "        justify_content=\"center\",\n",
    "    ),\n",
    ")\n",
    "\n",
    "\n",
    "\n",
    "# fig = make_pointcloud()\n",
    "# pointcloud = make_point_cloud(dump_dir='./robot_traj')\n",
    "# display(chat_history, user_input)"
   ]
  },
  {
   "cell_type": "code",
   "execution_count": null,
   "metadata": {},
   "outputs": [],
   "source": [
    "plot_title = widgets.Label(\n",
    "    value=\"FAIR Embodied AI Demo\",\n",
    "    layout=widgets.Layout(\n",
    "        width=\"100%\",\n",
    "        display=\"flex\",\n",
    "        justify_content=\"center\",\n",
    "    ),\n",
    ")"
   ]
  },
  {
   "cell_type": "code",
   "execution_count": null,
   "metadata": {},
   "outputs": [],
   "source": [
    "image, image_update = make_video_widget(height=200, width=300)\n",
    "crops, crop_update = make_video_widget(height=200, width=300)\n",
    "\n",
    "# svm.voxel_map.observations[0].rgb.cpu().numpy()\n",
    "# Video\n",
    "flex_layout = widgets.Layout(\n",
    "    width=\"100%\",\n",
    "    # max_height=\"700px\",\n",
    "    display=\"flex\",\n",
    "    justify_content=\"space-between\",\n",
    ")\n",
    "\n",
    "horizontal_fill_layout = widgets.Layout(\n",
    "    width=\"100%\",\n",
    "    # height=\"10%\",\n",
    "    max_height=\"300px\",\n",
    "    display='flex',\n",
    "    flex_flow='row',\n",
    "    justify_content='space-between'\n",
    "    # margin = '50 40px 50 50px ',\n",
    ")\n",
    "\n",
    "lower_videos = widgets.HBox(\n",
    "    [image, crops],\n",
    "    layout = horizontal_fill_layout,\n",
    ")\n",
    "\n",
    "video_portion_layout = widgets.Layout(\n",
    "    width=\"65%\",\n",
    "    height=\"100%\",\n",
    "    # max_height=\"500px\",\n",
    "    display='flex',\n",
    "    # flex_flow='row',\n",
    "    justify_content='space-between'\n",
    "    # margin = '50 40px 50 50px ',\n",
    ")\n",
    "video_portion = widgets.VBox(\n",
    "    [gf_wrapper, lower_videos],\n",
    "    layout = video_portion_layout\n",
    ")\n",
    "\n",
    "dashboard = widgets.HBox(\n",
    "    [video_portion, chat_box],\n",
    "    layout=flex_layout,\n",
    ")\n",
    "dashboard_with_title = widgets.VBox(\n",
    "    [plot_title, dashboard],\n",
    "    layout = flex_layout\n",
    ")\n",
    "\n",
    "display(dashboard_with_title)"
   ]
  },
  {
   "cell_type": "code",
   "execution_count": null,
   "metadata": {},
   "outputs": [],
   "source": [
    "# from ipywidgets import GridspecLayout, GridBox\n",
    "\n",
    "# grid = GridspecLayout(6, 5)\n",
    "# grid[0, :] = plot_title\n",
    "# grid[1:5, :4] = GridBox(children=[gf],\n",
    "#         layout=widgets.Layout(\n",
    "#             width='100%',\n",
    "#             height='100%',\n",
    "#             # grid_template_columns='100px 50px 100px',\n",
    "#             # grid_template_rows='80px auto 80px',\n",
    "#             # grid_gap='5px 10px')\n",
    "#        )\n",
    "# )\n",
    "# grid[5, :4] = GridBox(children=[image, crops],\n",
    "#         layout=widgets.Layout(\n",
    "#             width='100%',\n",
    "#             height='100%',\n",
    "#             # max_height=\"500px\",\n",
    "#             display='flex',\n",
    "#             flex_flow='row',\n",
    "#             justify_content='space-between'\n",
    "#             # margin = '50 40px 50 50px ',\n",
    "#         )\n",
    "# )\n",
    "# grid[:, -1] = chat_box\n",
    "# display(grid)"
   ]
  },
  {
   "cell_type": "code",
   "execution_count": null,
   "metadata": {},
   "outputs": [],
   "source": []
  }
 ],
 "metadata": {
  "colab": {
   "provenance": []
  },
  "kernelspec": {
   "display_name": "Python 3 (ipykernel)",
   "language": "python",
   "name": "python3"
  },
  "language_info": {
   "codemirror_mode": {
    "name": "ipython",
    "version": 3
   },
   "file_extension": ".py",
   "mimetype": "text/x-python",
   "name": "python",
   "nbconvert_exporter": "python",
   "pygments_lexer": "ipython3",
   "version": "3.9.17"
  }
 },
 "nbformat": 4,
 "nbformat_minor": 4
}
